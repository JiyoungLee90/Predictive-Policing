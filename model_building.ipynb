{
 "cells": [
  {
   "cell_type": "code",
   "execution_count": 1,
   "metadata": {},
   "outputs": [],
   "source": [
    "import pandas as pd\n",
    "import numpy as np\n",
    "import matplotlib.pyplot as plt\n",
    "from ipynb.fs.full.time_based_class import *\n",
    "from ipynb.fs.full.model_evaluation_func import *\n",
    "import pickle\n",
    "from sklearn.model_selection import GridSearchCV"
   ]
  },
  {
   "cell_type": "code",
   "execution_count": 2,
   "metadata": {},
   "outputs": [],
   "source": [
    "crime = pd.read_csv('crime1.csv')\n",
    "\n",
    "# change to datetime\n",
    "crime[\"Month\"] = pd.to_datetime(crime[\"Month\"])"
   ]
  },
  {
   "cell_type": "code",
   "execution_count": 3,
   "metadata": {},
   "outputs": [
    {
     "data": {
      "text/html": [
       "<div>\n",
       "<style scoped>\n",
       "    .dataframe tbody tr th:only-of-type {\n",
       "        vertical-align: middle;\n",
       "    }\n",
       "\n",
       "    .dataframe tbody tr th {\n",
       "        vertical-align: top;\n",
       "    }\n",
       "\n",
       "    .dataframe thead th {\n",
       "        text-align: right;\n",
       "    }\n",
       "</style>\n",
       "<table border=\"1\" class=\"dataframe\">\n",
       "  <thead>\n",
       "    <tr style=\"text-align: right;\">\n",
       "      <th></th>\n",
       "      <th>Month</th>\n",
       "      <th>LSOA</th>\n",
       "      <th>Type</th>\n",
       "      <th>Total</th>\n",
       "      <th>Avg_temp</th>\n",
       "      <th>Med_price</th>\n",
       "      <th>Uni_credit</th>\n",
       "    </tr>\n",
       "  </thead>\n",
       "  <tbody>\n",
       "    <tr>\n",
       "      <th>0</th>\n",
       "      <td>2017-11-01</td>\n",
       "      <td>Birmingham 001A</td>\n",
       "      <td>Anti-social behaviour</td>\n",
       "      <td>0.0</td>\n",
       "      <td>7</td>\n",
       "      <td>410000.0</td>\n",
       "      <td>6.0</td>\n",
       "    </tr>\n",
       "    <tr>\n",
       "      <th>1</th>\n",
       "      <td>2017-11-01</td>\n",
       "      <td>Birmingham 001A</td>\n",
       "      <td>Criminal damage and arson</td>\n",
       "      <td>0.0</td>\n",
       "      <td>7</td>\n",
       "      <td>410000.0</td>\n",
       "      <td>6.0</td>\n",
       "    </tr>\n",
       "    <tr>\n",
       "      <th>2</th>\n",
       "      <td>2017-11-01</td>\n",
       "      <td>Birmingham 001A</td>\n",
       "      <td>Other theft</td>\n",
       "      <td>1.0</td>\n",
       "      <td>7</td>\n",
       "      <td>410000.0</td>\n",
       "      <td>6.0</td>\n",
       "    </tr>\n",
       "    <tr>\n",
       "      <th>3</th>\n",
       "      <td>2017-11-01</td>\n",
       "      <td>Birmingham 001A</td>\n",
       "      <td>Public order</td>\n",
       "      <td>0.0</td>\n",
       "      <td>7</td>\n",
       "      <td>410000.0</td>\n",
       "      <td>6.0</td>\n",
       "    </tr>\n",
       "    <tr>\n",
       "      <th>4</th>\n",
       "      <td>2017-11-01</td>\n",
       "      <td>Birmingham 001A</td>\n",
       "      <td>Vehicle crime</td>\n",
       "      <td>0.0</td>\n",
       "      <td>7</td>\n",
       "      <td>410000.0</td>\n",
       "      <td>6.0</td>\n",
       "    </tr>\n",
       "    <tr>\n",
       "      <th>...</th>\n",
       "      <td>...</td>\n",
       "      <td>...</td>\n",
       "      <td>...</td>\n",
       "      <td>...</td>\n",
       "      <td>...</td>\n",
       "      <td>...</td>\n",
       "      <td>...</td>\n",
       "    </tr>\n",
       "    <tr>\n",
       "      <th>846715</th>\n",
       "      <td>2020-10-01</td>\n",
       "      <td>Wolverhampton 035H</td>\n",
       "      <td>Robbery</td>\n",
       "      <td>0.0</td>\n",
       "      <td>10</td>\n",
       "      <td>106000.0</td>\n",
       "      <td>414.0</td>\n",
       "    </tr>\n",
       "    <tr>\n",
       "      <th>846716</th>\n",
       "      <td>2020-10-01</td>\n",
       "      <td>Wolverhampton 035H</td>\n",
       "      <td>Other crime</td>\n",
       "      <td>0.0</td>\n",
       "      <td>10</td>\n",
       "      <td>106000.0</td>\n",
       "      <td>414.0</td>\n",
       "    </tr>\n",
       "    <tr>\n",
       "      <th>846717</th>\n",
       "      <td>2020-10-01</td>\n",
       "      <td>Wolverhampton 035H</td>\n",
       "      <td>Theft from the person</td>\n",
       "      <td>1.0</td>\n",
       "      <td>10</td>\n",
       "      <td>106000.0</td>\n",
       "      <td>414.0</td>\n",
       "    </tr>\n",
       "    <tr>\n",
       "      <th>846718</th>\n",
       "      <td>2020-10-01</td>\n",
       "      <td>Wolverhampton 035H</td>\n",
       "      <td>Drugs</td>\n",
       "      <td>1.0</td>\n",
       "      <td>10</td>\n",
       "      <td>106000.0</td>\n",
       "      <td>414.0</td>\n",
       "    </tr>\n",
       "    <tr>\n",
       "      <th>846719</th>\n",
       "      <td>2020-10-01</td>\n",
       "      <td>Wolverhampton 035H</td>\n",
       "      <td>Bicycle theft</td>\n",
       "      <td>1.0</td>\n",
       "      <td>10</td>\n",
       "      <td>106000.0</td>\n",
       "      <td>414.0</td>\n",
       "    </tr>\n",
       "  </tbody>\n",
       "</table>\n",
       "<p>846720 rows × 7 columns</p>\n",
       "</div>"
      ],
      "text/plain": [
       "            Month                LSOA                       Type  Total  \\\n",
       "0      2017-11-01     Birmingham 001A      Anti-social behaviour    0.0   \n",
       "1      2017-11-01     Birmingham 001A  Criminal damage and arson    0.0   \n",
       "2      2017-11-01     Birmingham 001A                Other theft    1.0   \n",
       "3      2017-11-01     Birmingham 001A               Public order    0.0   \n",
       "4      2017-11-01     Birmingham 001A              Vehicle crime    0.0   \n",
       "...           ...                 ...                        ...    ...   \n",
       "846715 2020-10-01  Wolverhampton 035H                    Robbery    0.0   \n",
       "846716 2020-10-01  Wolverhampton 035H                Other crime    0.0   \n",
       "846717 2020-10-01  Wolverhampton 035H      Theft from the person    1.0   \n",
       "846718 2020-10-01  Wolverhampton 035H                      Drugs    1.0   \n",
       "846719 2020-10-01  Wolverhampton 035H              Bicycle theft    1.0   \n",
       "\n",
       "        Avg_temp  Med_price  Uni_credit  \n",
       "0              7   410000.0         6.0  \n",
       "1              7   410000.0         6.0  \n",
       "2              7   410000.0         6.0  \n",
       "3              7   410000.0         6.0  \n",
       "4              7   410000.0         6.0  \n",
       "...          ...        ...         ...  \n",
       "846715        10   106000.0       414.0  \n",
       "846716        10   106000.0       414.0  \n",
       "846717        10   106000.0       414.0  \n",
       "846718        10   106000.0       414.0  \n",
       "846719        10   106000.0       414.0  \n",
       "\n",
       "[846720 rows x 7 columns]"
      ]
     },
     "execution_count": 3,
     "metadata": {},
     "output_type": "execute_result"
    }
   ],
   "source": [
    "crime"
   ]
  },
  {
   "cell_type": "markdown",
   "metadata": {},
   "source": [
    "### Categorical Variable Encoding : time-based target encoding"
   ]
  },
  {
   "cell_type": "code",
   "execution_count": 4,
   "metadata": {},
   "outputs": [
    {
     "name": "stdout",
     "output_type": "stream",
     "text": [
      "Train period: 2017-11-01 - 2017-12-01 , Test period 2017-12-01 - 2018-01-01\n",
      "Train period: 2017-11-01 - 2018-01-01 , Test period 2018-01-01 - 2018-02-01\n",
      "Train period: 2017-11-01 - 2018-02-01 , Test period 2018-02-01 - 2018-03-01\n",
      "Train period: 2017-11-01 - 2018-03-01 , Test period 2018-03-01 - 2018-04-01\n",
      "Train period: 2017-11-01 - 2018-04-01 , Test period 2018-04-01 - 2018-05-01\n",
      "Train period: 2017-11-01 - 2018-05-01 , Test period 2018-05-01 - 2018-06-01\n",
      "Train period: 2017-11-01 - 2018-06-01 , Test period 2018-06-01 - 2018-07-01\n",
      "Train period: 2017-11-01 - 2018-07-01 , Test period 2018-07-01 - 2018-08-01\n",
      "Train period: 2017-11-01 - 2018-08-01 , Test period 2018-08-01 - 2018-09-01\n",
      "Train period: 2017-11-01 - 2018-09-01 , Test period 2018-09-01 - 2018-10-01\n",
      "Train period: 2017-11-01 - 2018-10-01 , Test period 2018-10-01 - 2018-11-01\n",
      "Train period: 2017-11-01 - 2018-11-01 , Test period 2018-11-01 - 2018-12-01\n",
      "Train period: 2017-11-01 - 2018-12-01 , Test period 2018-12-01 - 2019-01-01\n",
      "Train period: 2017-11-01 - 2019-01-01 , Test period 2019-01-01 - 2019-02-01\n",
      "Train period: 2017-11-01 - 2019-02-01 , Test period 2019-02-01 - 2019-03-01\n",
      "Train period: 2017-11-01 - 2019-03-01 , Test period 2019-03-01 - 2019-04-01\n",
      "Train period: 2017-11-01 - 2019-04-01 , Test period 2019-04-01 - 2019-05-01\n",
      "Train period: 2017-11-01 - 2019-05-01 , Test period 2019-05-01 - 2019-06-01\n",
      "Train period: 2017-11-01 - 2019-06-01 , Test period 2019-06-01 - 2019-07-01\n",
      "Train period: 2017-11-01 - 2019-07-01 , Test period 2019-07-01 - 2019-08-01\n",
      "Train period: 2017-11-01 - 2019-08-01 , Test period 2019-08-01 - 2019-09-01\n",
      "Train period: 2017-11-01 - 2019-09-01 , Test period 2019-09-01 - 2019-10-01\n",
      "Train period: 2017-11-01 - 2019-10-01 , Test period 2019-10-01 - 2019-11-01\n",
      "Train period: 2017-11-01 - 2019-11-01 , Test period 2019-11-01 - 2019-12-01\n",
      "Train period: 2017-11-01 - 2019-12-01 , Test period 2019-12-01 - 2020-01-01\n",
      "Train period: 2017-11-01 - 2020-01-01 , Test period 2020-01-01 - 2020-02-01\n",
      "Train period: 2017-11-01 - 2020-02-01 , Test period 2020-02-01 - 2020-03-01\n",
      "Train period: 2017-11-01 - 2020-03-01 , Test period 2020-03-01 - 2020-04-01\n",
      "Train period: 2017-11-01 - 2020-04-01 , Test period 2020-04-01 - 2020-05-01\n",
      "Train period: 2017-11-01 - 2020-05-01 , Test period 2020-05-01 - 2020-06-01\n",
      "Train period: 2017-11-01 - 2020-06-01 , Test period 2020-06-01 - 2020-07-01\n",
      "Train period: 2017-11-01 - 2020-07-01 , Test period 2020-07-01 - 2020-08-01\n",
      "Train period: 2017-11-01 - 2020-08-01 , Test period 2020-08-01 - 2020-09-01\n",
      "Train period: 2017-11-01 - 2020-09-01 , Test period 2020-09-01 - 2020-10-01\n",
      "Train period: 2017-11-01 - 2020-10-01 , Test period 2020-10-01 - 2020-11-01\n"
     ]
    },
    {
     "data": {
      "text/html": [
       "<div>\n",
       "<style scoped>\n",
       "    .dataframe tbody tr th:only-of-type {\n",
       "        vertical-align: middle;\n",
       "    }\n",
       "\n",
       "    .dataframe tbody tr th {\n",
       "        vertical-align: top;\n",
       "    }\n",
       "\n",
       "    .dataframe thead th {\n",
       "        text-align: right;\n",
       "    }\n",
       "</style>\n",
       "<table border=\"1\" class=\"dataframe\">\n",
       "  <thead>\n",
       "    <tr style=\"text-align: right;\">\n",
       "      <th></th>\n",
       "      <th>Month</th>\n",
       "      <th>LSOA</th>\n",
       "      <th>Type</th>\n",
       "      <th>Total</th>\n",
       "      <th>Avg_temp</th>\n",
       "      <th>Med_price</th>\n",
       "      <th>Uni_credit</th>\n",
       "      <th>LSOA_target_mean</th>\n",
       "      <th>Type_target_mean</th>\n",
       "    </tr>\n",
       "  </thead>\n",
       "  <tbody>\n",
       "    <tr>\n",
       "      <th>23520</th>\n",
       "      <td>2017-12-01</td>\n",
       "      <td>Birmingham 001A</td>\n",
       "      <td>Anti-social behaviour</td>\n",
       "      <td>0.0</td>\n",
       "      <td>5</td>\n",
       "      <td>410000.0</td>\n",
       "      <td>11.0</td>\n",
       "      <td>0.142857</td>\n",
       "      <td>2.485119</td>\n",
       "    </tr>\n",
       "    <tr>\n",
       "      <th>23521</th>\n",
       "      <td>2017-12-01</td>\n",
       "      <td>Birmingham 001A</td>\n",
       "      <td>Criminal damage and arson</td>\n",
       "      <td>1.0</td>\n",
       "      <td>5</td>\n",
       "      <td>410000.0</td>\n",
       "      <td>11.0</td>\n",
       "      <td>0.142857</td>\n",
       "      <td>1.359524</td>\n",
       "    </tr>\n",
       "    <tr>\n",
       "      <th>23522</th>\n",
       "      <td>2017-12-01</td>\n",
       "      <td>Birmingham 001A</td>\n",
       "      <td>Other theft</td>\n",
       "      <td>0.0</td>\n",
       "      <td>5</td>\n",
       "      <td>410000.0</td>\n",
       "      <td>11.0</td>\n",
       "      <td>0.142857</td>\n",
       "      <td>1.214286</td>\n",
       "    </tr>\n",
       "    <tr>\n",
       "      <th>23523</th>\n",
       "      <td>2017-12-01</td>\n",
       "      <td>Birmingham 001A</td>\n",
       "      <td>Public order</td>\n",
       "      <td>0.0</td>\n",
       "      <td>5</td>\n",
       "      <td>410000.0</td>\n",
       "      <td>11.0</td>\n",
       "      <td>0.142857</td>\n",
       "      <td>0.585714</td>\n",
       "    </tr>\n",
       "    <tr>\n",
       "      <th>23524</th>\n",
       "      <td>2017-12-01</td>\n",
       "      <td>Birmingham 001A</td>\n",
       "      <td>Vehicle crime</td>\n",
       "      <td>1.0</td>\n",
       "      <td>5</td>\n",
       "      <td>410000.0</td>\n",
       "      <td>11.0</td>\n",
       "      <td>0.142857</td>\n",
       "      <td>1.833929</td>\n",
       "    </tr>\n",
       "    <tr>\n",
       "      <th>...</th>\n",
       "      <td>...</td>\n",
       "      <td>...</td>\n",
       "      <td>...</td>\n",
       "      <td>...</td>\n",
       "      <td>...</td>\n",
       "      <td>...</td>\n",
       "      <td>...</td>\n",
       "      <td>...</td>\n",
       "      <td>...</td>\n",
       "    </tr>\n",
       "    <tr>\n",
       "      <th>846715</th>\n",
       "      <td>2020-10-01</td>\n",
       "      <td>Wolverhampton 035H</td>\n",
       "      <td>Robbery</td>\n",
       "      <td>0.0</td>\n",
       "      <td>10</td>\n",
       "      <td>106000.0</td>\n",
       "      <td>414.0</td>\n",
       "      <td>2.506122</td>\n",
       "      <td>0.394983</td>\n",
       "    </tr>\n",
       "    <tr>\n",
       "      <th>846716</th>\n",
       "      <td>2020-10-01</td>\n",
       "      <td>Wolverhampton 035H</td>\n",
       "      <td>Other crime</td>\n",
       "      <td>0.0</td>\n",
       "      <td>10</td>\n",
       "      <td>106000.0</td>\n",
       "      <td>414.0</td>\n",
       "      <td>2.506122</td>\n",
       "      <td>0.209932</td>\n",
       "    </tr>\n",
       "    <tr>\n",
       "      <th>846717</th>\n",
       "      <td>2020-10-01</td>\n",
       "      <td>Wolverhampton 035H</td>\n",
       "      <td>Theft from the person</td>\n",
       "      <td>1.0</td>\n",
       "      <td>10</td>\n",
       "      <td>106000.0</td>\n",
       "      <td>414.0</td>\n",
       "      <td>2.506122</td>\n",
       "      <td>0.143844</td>\n",
       "    </tr>\n",
       "    <tr>\n",
       "      <th>846718</th>\n",
       "      <td>2020-10-01</td>\n",
       "      <td>Wolverhampton 035H</td>\n",
       "      <td>Drugs</td>\n",
       "      <td>1.0</td>\n",
       "      <td>10</td>\n",
       "      <td>106000.0</td>\n",
       "      <td>414.0</td>\n",
       "      <td>2.506122</td>\n",
       "      <td>0.252568</td>\n",
       "    </tr>\n",
       "    <tr>\n",
       "      <th>846719</th>\n",
       "      <td>2020-10-01</td>\n",
       "      <td>Wolverhampton 035H</td>\n",
       "      <td>Bicycle theft</td>\n",
       "      <td>1.0</td>\n",
       "      <td>10</td>\n",
       "      <td>106000.0</td>\n",
       "      <td>414.0</td>\n",
       "      <td>2.506122</td>\n",
       "      <td>0.125833</td>\n",
       "    </tr>\n",
       "  </tbody>\n",
       "</table>\n",
       "<p>823200 rows × 9 columns</p>\n",
       "</div>"
      ],
      "text/plain": [
       "            Month                LSOA                       Type  Total  \\\n",
       "23520  2017-12-01     Birmingham 001A      Anti-social behaviour    0.0   \n",
       "23521  2017-12-01     Birmingham 001A  Criminal damage and arson    1.0   \n",
       "23522  2017-12-01     Birmingham 001A                Other theft    0.0   \n",
       "23523  2017-12-01     Birmingham 001A               Public order    0.0   \n",
       "23524  2017-12-01     Birmingham 001A              Vehicle crime    1.0   \n",
       "...           ...                 ...                        ...    ...   \n",
       "846715 2020-10-01  Wolverhampton 035H                    Robbery    0.0   \n",
       "846716 2020-10-01  Wolverhampton 035H                Other crime    0.0   \n",
       "846717 2020-10-01  Wolverhampton 035H      Theft from the person    1.0   \n",
       "846718 2020-10-01  Wolverhampton 035H                      Drugs    1.0   \n",
       "846719 2020-10-01  Wolverhampton 035H              Bicycle theft    1.0   \n",
       "\n",
       "        Avg_temp  Med_price  Uni_credit  LSOA_target_mean  Type_target_mean  \n",
       "23520          5   410000.0        11.0          0.142857          2.485119  \n",
       "23521          5   410000.0        11.0          0.142857          1.359524  \n",
       "23522          5   410000.0        11.0          0.142857          1.214286  \n",
       "23523          5   410000.0        11.0          0.142857          0.585714  \n",
       "23524          5   410000.0        11.0          0.142857          1.833929  \n",
       "...          ...        ...         ...               ...               ...  \n",
       "846715        10   106000.0       414.0          2.506122          0.394983  \n",
       "846716        10   106000.0       414.0          2.506122          0.209932  \n",
       "846717        10   106000.0       414.0          2.506122          0.143844  \n",
       "846718        10   106000.0       414.0          2.506122          0.252568  \n",
       "846719        10   106000.0       414.0          2.506122          0.125833  \n",
       "\n",
       "[823200 rows x 9 columns]"
      ]
     },
     "execution_count": 4,
     "metadata": {},
     "output_type": "execute_result"
    }
   ],
   "source": [
    "Target_enc = FCTargetEncoder('Total')\n",
    "Target_enc.transform(crime, drop_target = False, drop_na = True, drop_cat = False)"
   ]
  },
  {
   "cell_type": "code",
   "execution_count": 5,
   "metadata": {},
   "outputs": [],
   "source": [
    "# saving category dataframe for API reference\n",
    "cat_df = crime.loc[823200:, ['LSOA', 'LSOA_target_mean', 'Type', 'Type_target_mean']]\n",
    "cat_df.to_csv(\"cat_df.csv\", index = False)"
   ]
  },
  {
   "cell_type": "markdown",
   "metadata": {},
   "source": [
    "### Time-Based Nested Cross Validation"
   ]
  },
  {
   "cell_type": "code",
   "execution_count": 5,
   "metadata": {},
   "outputs": [
    {
     "name": "stdout",
     "output_type": "stream",
     "text": [
      "Train period: 2017-12-01 - 2019-12-01 , Test period 2019-12-01 - 2020-01-01\n",
      "Train period: 2017-12-01 - 2020-01-01 , Test period 2020-01-01 - 2020-02-01\n",
      "Train period: 2017-12-01 - 2020-02-01 , Test period 2020-02-01 - 2020-03-01\n",
      "Train period: 2017-12-01 - 2020-03-01 , Test period 2020-03-01 - 2020-04-01\n",
      "Train period: 2017-12-01 - 2020-04-01 , Test period 2020-04-01 - 2020-05-01\n",
      "Train period: 2017-12-01 - 2020-05-01 , Test period 2020-05-01 - 2020-06-01\n",
      "Train period: 2017-12-01 - 2020-06-01 , Test period 2020-06-01 - 2020-07-01\n",
      "Train period: 2017-12-01 - 2020-07-01 , Test period 2020-07-01 - 2020-08-01\n",
      "Train period: 2017-12-01 - 2020-08-01 , Test period 2020-08-01 - 2020-09-01\n",
      "Train period: 2017-12-01 - 2020-09-01 , Test period 2020-09-01 - 2020-10-01\n",
      "Train period: 2017-12-01 - 2020-10-01 , Test period 2020-10-01 - 2020-11-01\n"
     ]
    }
   ],
   "source": [
    "outer_cv = TimeBasedCV(train_period = 24 , test_period = 1)\n",
    "split_date = datetime.strptime('2019-12-01', '%Y-%m-%d').date()\n",
    "train_test_idx = outer_cv.forward_chaining(crime, first_split_date = split_date) "
   ]
  },
  {
   "cell_type": "code",
   "execution_count": 6,
   "metadata": {},
   "outputs": [
    {
     "name": "stdout",
     "output_type": "stream",
     "text": [
      "Train period: 2017-12-01 - 2019-11-01 , Test period 2019-11-01 - 2019-12-01\n",
      "Train period: 2017-12-01 - 2019-12-01 , Test period 2019-12-01 - 2020-01-01\n",
      "Train period: 2017-12-01 - 2020-01-01 , Test period 2020-01-01 - 2020-02-01\n",
      "Train period: 2017-12-01 - 2020-02-01 , Test period 2020-02-01 - 2020-03-01\n",
      "Train period: 2017-12-01 - 2020-03-01 , Test period 2020-03-01 - 2020-04-01\n",
      "Train period: 2017-12-01 - 2020-04-01 , Test period 2020-04-01 - 2020-05-01\n",
      "Train period: 2017-12-01 - 2020-05-01 , Test period 2020-05-01 - 2020-06-01\n",
      "Train period: 2017-12-01 - 2020-06-01 , Test period 2020-06-01 - 2020-07-01\n",
      "Train period: 2017-12-01 - 2020-07-01 , Test period 2020-07-01 - 2020-08-01\n",
      "Train period: 2017-12-01 - 2020-08-01 , Test period 2020-08-01 - 2020-09-01\n",
      "Train period: 2017-12-01 - 2020-09-01 , Test period 2020-09-01 - 2020-10-01\n",
      "Train period: 2017-12-01 - 2020-10-01 , Test period 2020-10-01 - 2020-11-01\n"
     ]
    }
   ],
   "source": [
    "inner_cv = TimeBasedCV(train_period = 23 , test_period = 1)\n",
    "split_date = datetime.strptime('2019-11-01', '%Y-%m-%d').date()\n",
    "train_val_idx = inner_cv.forward_chaining(crime, first_split_date = split_date) \n",
    "del train_val_idx[-1] # delete the last month "
   ]
  },
  {
   "cell_type": "markdown",
   "metadata": {},
   "source": [
    "## Models"
   ]
  },
  {
   "cell_type": "code",
   "execution_count": 7,
   "metadata": {},
   "outputs": [],
   "source": [
    "# change to np.array \n",
    "y = crime.Total.to_numpy()\n",
    "X = crime.drop([\"Month\", \"Total\", 'LSOA', 'Type'], axis = 1).to_numpy()\n",
    "\n",
    "# change to array index from df index\n",
    "for i in range(0, len(train_val_idx), 1):\n",
    "    train_val_idx[i] = list(train_val_idx[i])\n",
    "    train_test_idx[i] = list(train_test_idx[i])\n",
    "    \n",
    "    for j in range(0, 2, 1):\n",
    "        train_val_idx[i][j] = [idx - 23520 for idx in train_val_idx[i][j]]\n",
    "        train_test_idx[i][j] = [idx - 23520 for idx in train_test_idx[i][j]]\n",
    "        \n",
    "    train_val_idx[i] = tuple(train_val_idx[i])\n",
    "    train_test_idx[i]= tuple(train_test_idx[i])"
   ]
  },
  {
   "cell_type": "code",
   "execution_count": 8,
   "metadata": {},
   "outputs": [],
   "source": [
    "def train_val_error(Model, X, y, cv = train_val_idx):\n",
    "    \n",
    "    model = Model\n",
    "    \n",
    "    train_error_list = []\n",
    "    valid_error_list = []\n",
    "    \n",
    "    for train, valid in cv:\n",
    "        X_train, X_valid = X[train], X[valid]\n",
    "        y_train, y_valid = y[train].ravel(), y[valid].ravel()\n",
    "        \n",
    "        train_error, valid_error = cal_metrics(X_train, y_train, X_valid, y_valid, model)\n",
    "        train_error_list.append(train_error)\n",
    "        valid_error_list.append(valid_error)\n",
    "    \n",
    "    print(\"Inner loop : Mean MAE for {} time-based cross-validation : {}\".format(len(valid_error_list), np.mean(valid_error_list)))\n",
    "    plot_metrics(train_error_list, valid_error_list)"
   ]
  },
  {
   "cell_type": "code",
   "execution_count": 9,
   "metadata": {},
   "outputs": [],
   "source": [
    "def test_performance(Model, X, y, train_val_idx, train_test_idx):\n",
    "    \n",
    "    model = Model\n",
    "    \n",
    "    test_error_list = []\n",
    "    \n",
    "    for i in range(0, 11, 1):\n",
    "        X_train = X[train_val_idx[i][0]]\n",
    "        y_train = y[train_val_idx[i][0]].ravel()\n",
    "        \n",
    "        model.fit(X_train, y_train)\n",
    "        \n",
    "        X_test = X[train_test_idx[i][1]]\n",
    "        y_test = y[train_test_idx[i][1]].ravel()\n",
    "        \n",
    "        test_error = cal_validation_error(X_test, y_test, model)\n",
    "        test_error_list.append(test_error)    \n",
    "        \n",
    "    print(\"Outer loop : Mean MAE for {} time-based cross-validation : {}\".format(len(test_error_list), np.mean(test_error_list)))"
   ]
  },
  {
   "cell_type": "markdown",
   "metadata": {},
   "source": [
    "### Linear Regression"
   ]
  },
  {
   "cell_type": "code",
   "execution_count": 10,
   "metadata": {},
   "outputs": [
    {
     "name": "stdout",
     "output_type": "stream",
     "text": [
      "Outer loop : Mean MAE for 11 time-based cross-validation : 1.0342114979110544\n",
      "Inner loop : Mean MAE for 11 time-based cross-validation : 1.0241102629914831\n"
     ]
    },
    {
     "data": {
      "image/png": "[encoded data removed]",
      "text/plain": [
       "<Figure size 432x288 with 1 Axes>"
      ]
     },
     "metadata": {
      "needs_background": "light"
     },
     "output_type": "display_data"
    }
   ],
   "source": [
    "from sklearn.linear_model import LinearRegression\n",
    "\n",
    "model = LinearRegression()\n",
    "test_performance(model, X, y, train_val_idx, train_test_idx)\n",
    "train_val_error(model, X, y, cv = train_val_idx)"
   ]
  },
  {
   "cell_type": "markdown",
   "metadata": {},
   "source": [
    "### Polynomial Regression"
   ]
  },
  {
   "cell_type": "code",
   "execution_count": 16,
   "metadata": {},
   "outputs": [
    {
     "data": {
      "text/plain": [
       "[<matplotlib.lines.Line2D at 0x13c6543d0>]"
      ]
     },
     "execution_count": 16,
     "metadata": {},
     "output_type": "execute_result"
    },
    {
     "data": {
      "image/png": "[encoded data removed]",
      "text/plain": [
       "<Figure size 432x288 with 1 Axes>"
      ]
     },
     "metadata": {
      "needs_background": "light"
     },
     "output_type": "display_data"
    }
   ],
   "source": [
    "from sklearn.preprocessing import PolynomialFeatures\n",
    "\n",
    "model = LinearRegression()\n",
    "degree = []\n",
    "error = []\n",
    "\n",
    "for i in range(2, 6, 1):\n",
    "    degree.append(i)\n",
    "    poly = PolynomialFeatures(i, include_bias = False)\n",
    "    x_poly = poly.fit_transform(X)\n",
    "    valid_error = []\n",
    "    \n",
    "    for train, valid in train_val_idx:\n",
    "        X_train, X_valid = x_poly[train], x_poly[valid]\n",
    "        y_train, y_valid = y[train].ravel(), y[valid].ravel()\n",
    "        model.fit(X_train, y_train)\n",
    "        valid_error.append(cal_validation_error(X_valid, y_valid, model))\n",
    "    error.append(np.mean(valid_error))\n",
    "        \n",
    "        \n",
    "plt.plot(degree, error)"
   ]
  },
  {
   "cell_type": "code",
   "execution_count": 25,
   "metadata": {},
   "outputs": [
    {
     "data": {
      "text/plain": [
       "0.8623920739933942"
      ]
     },
     "execution_count": 25,
     "metadata": {},
     "output_type": "execute_result"
    }
   ],
   "source": [
    "min(error)"
   ]
  },
  {
   "cell_type": "markdown",
   "metadata": {},
   "source": [
    "### Lasso Regression"
   ]
  },
  {
   "cell_type": "code",
   "execution_count": 22,
   "metadata": {},
   "outputs": [],
   "source": [
    "from sklearn.linear_model import Lasso\n",
    "\n",
    "model = Lasso()\n",
    "\n",
    "parameters = {'alpha':[i/100 for i in range(1,100,1)]}\n",
    "\n",
    "gs_lasso = GridSearchCV(estimator=model, param_grid=parameters, \n",
    "                        scoring='neg_mean_absolute_error', cv = train_val_idx)\n",
    "\n",
    "best_model_lasso = gs_lasso.fit(X=X, y=y).best_estimator_"
   ]
  },
  {
   "cell_type": "code",
   "execution_count": 26,
   "metadata": {},
   "outputs": [
    {
     "data": {
      "text/plain": [
       "Lasso(alpha=0.14)"
      ]
     },
     "execution_count": 26,
     "metadata": {},
     "output_type": "execute_result"
    }
   ],
   "source": [
    "best_model_lasso"
   ]
  },
  {
   "cell_type": "code",
   "execution_count": 28,
   "metadata": {},
   "outputs": [
    {
     "data": {
      "text/plain": [
       "-1.0120248068901756"
      ]
     },
     "execution_count": 28,
     "metadata": {},
     "output_type": "execute_result"
    }
   ],
   "source": [
    "gs_lasso.best_score_"
   ]
  },
  {
   "cell_type": "code",
   "execution_count": 29,
   "metadata": {},
   "outputs": [
    {
     "name": "stdout",
     "output_type": "stream",
     "text": [
      "Outer loop : Mean MAE for 11 time-based cross-validation : 1.0241801679983207\n"
     ]
    }
   ],
   "source": [
    "test_performance(best_model_lasso, X, y, train_val_idx, train_test_idx)"
   ]
  },
  {
   "cell_type": "markdown",
   "metadata": {},
   "source": [
    "### Random Forest"
   ]
  },
  {
   "cell_type": "code",
   "execution_count": 24,
   "metadata": {},
   "outputs": [],
   "source": [
    "from sklearn.ensemble import RandomForestRegressor\n",
    "\n",
    "model = RandomForestRegressor()\n",
    "\n",
    "parameters = {'max_features':['auto', 'log2', 'sqrt' ], 'n_estimators':[i for i in range(100, 300, 50)],\n",
    "             'max_depth': [5, 10, 20, 40, 80]}\n",
    "\n",
    "gs_rf = GridSearchCV(estimator=model, param_grid=parameters,\n",
    "                     scoring='neg_mean_absolute_error', cv = train_val_idx)\n",
    "\n",
    "best_model_rf = gs_rf.fit(X=X, y=y).best_estimator_"
   ]
  },
  {
   "cell_type": "code",
   "execution_count": 30,
   "metadata": {},
   "outputs": [
    {
     "data": {
      "text/plain": [
       "RandomForestRegressor(max_depth=20, max_features='sqrt', n_estimators=250)"
      ]
     },
     "execution_count": 30,
     "metadata": {},
     "output_type": "execute_result"
    }
   ],
   "source": [
    "best_model_rf"
   ]
  },
  {
   "cell_type": "code",
   "execution_count": 31,
   "metadata": {},
   "outputs": [
    {
     "data": {
      "text/plain": [
       "-0.798311539033993"
      ]
     },
     "execution_count": 31,
     "metadata": {},
     "output_type": "execute_result"
    }
   ],
   "source": [
    "gs_rf.best_score_"
   ]
  },
  {
   "cell_type": "code",
   "execution_count": 32,
   "metadata": {},
   "outputs": [
    {
     "name": "stdout",
     "output_type": "stream",
     "text": [
      "Outer loop : Mean MAE for 11 time-based cross-validation : 0.8369630883520173\n"
     ]
    }
   ],
   "source": [
    "test_performance(best_model_rf, X, y, train_val_idx, train_test_idx)"
   ]
  },
  {
   "cell_type": "markdown",
   "metadata": {},
   "source": [
    "### Gradient Boosted Tree"
   ]
  },
  {
   "cell_type": "code",
   "execution_count": 33,
   "metadata": {},
   "outputs": [],
   "source": [
    "from xgboost import XGBRegressor\n",
    "\n",
    "model = XGBRegressor()\n",
    "\n",
    "parameters = {'max_depth':[max_d for max_d in range(5, 9)], 'min_child_weight': [min_ch for min_ch in range(1, 5)], \n",
    "              'eta':[i/10. for i in range(1,5)]}\n",
    "\n",
    "gs_xgb = GridSearchCV(estimator=model, param_grid= parameters,\n",
    "                      scoring='neg_mean_absolute_error', cv = train_val_idx)\n",
    "\n",
    "best_model_xgb = gs_xgb.fit(X=X, y=y).best_estimator_"
   ]
  },
  {
   "cell_type": "code",
   "execution_count": 34,
   "metadata": {},
   "outputs": [
    {
     "data": {
      "text/plain": [
       "XGBRegressor(base_score=0.5, booster='gbtree', colsample_bylevel=1,\n",
       "             colsample_bynode=1, colsample_bytree=1, eta=0.1, gamma=0,\n",
       "             gpu_id=-1, importance_type='gain', interaction_constraints='',\n",
       "             learning_rate=0.100000001, max_delta_step=0, max_depth=7,\n",
       "             min_child_weight=1, missing=nan, monotone_constraints='()',\n",
       "             n_estimators=100, n_jobs=0, num_parallel_tree=1, random_state=0,\n",
       "             reg_alpha=0, reg_lambda=1, scale_pos_weight=1, subsample=1,\n",
       "             tree_method='exact', validate_parameters=1, verbosity=None)"
      ]
     },
     "execution_count": 34,
     "metadata": {},
     "output_type": "execute_result"
    }
   ],
   "source": [
    "best_model_xgb"
   ]
  },
  {
   "cell_type": "code",
   "execution_count": 35,
   "metadata": {},
   "outputs": [
    {
     "data": {
      "text/plain": [
       "-0.8010500628716585"
      ]
     },
     "execution_count": 35,
     "metadata": {},
     "output_type": "execute_result"
    }
   ],
   "source": [
    "gs_xgb.best_score_"
   ]
  },
  {
   "cell_type": "code",
   "execution_count": 36,
   "metadata": {},
   "outputs": [
    {
     "name": "stdout",
     "output_type": "stream",
     "text": [
      "Outer loop : Mean MAE for 11 time-based cross-validation : 0.8327629853921195\n"
     ]
    }
   ],
   "source": [
    "test_performance(best_model_xgb, X, y, train_val_idx, train_test_idx)"
   ]
  },
  {
   "cell_type": "markdown",
   "metadata": {},
   "source": [
    "## The Final Model"
   ]
  },
  {
   "cell_type": "code",
   "execution_count": 42,
   "metadata": {},
   "outputs": [
    {
     "name": "stdout",
     "output_type": "stream",
     "text": [
      "Inner loop : Mean MAE for 11 time-based cross-validation : 0.8141224744495286\n"
     ]
    },
    {
     "data": {
      "image/png": "[encoded data removed]",
      "text/plain": [
       "<Figure size 432x288 with 1 Axes>"
      ]
     },
     "metadata": {
      "needs_background": "light"
     },
     "output_type": "display_data"
    }
   ],
   "source": [
    "model = best_model_xgb\n",
    "train_val_error(model, X, y, cv = train_test_idx)"
   ]
  },
  {
   "cell_type": "code",
   "execution_count": 43,
   "metadata": {},
   "outputs": [],
   "source": [
    "# saving model\n",
    "pickl = {'model': model}\n",
    "pickle.dump( pickl, open( 'model_file' + \".p\", \"wb\" ))"
   ]
  }
 ],
 "metadata": {
  "hide_input": false,
  "kernelspec": {
   "display_name": "Python 3",
   "language": "python",
   "name": "python3"
  },
  "language_info": {
   "codemirror_mode": {
    "name": "ipython",
    "version": 3
   },
   "file_extension": ".py",
   "mimetype": "text/x-python",
   "name": "python",
   "nbconvert_exporter": "python",
   "pygments_lexer": "ipython3",
   "version": "3.8.6"
  },
  "varInspector": {
   "cols": {
    "lenName": 16,
    "lenType": 16,
    "lenVar": 40
   },
   "kernels_config": {
    "python": {
     "delete_cmd_postfix": "",
     "delete_cmd_prefix": "del ",
     "library": "var_list.py",
     "varRefreshCmd": "print(var_dic_list())"
    },
    "r": {
     "delete_cmd_postfix": ") ",
     "delete_cmd_prefix": "rm(",
     "library": "var_list.r",
     "varRefreshCmd": "cat(var_dic_list()) "
    }
   },
   "types_to_exclude": [
    "module",
    "function",
    "builtin_function_or_method",
    "instance",
    "_Feature"
   ],
   "window_display": false
  }
 },
 "nbformat": 4,
 "nbformat_minor": 4
}
