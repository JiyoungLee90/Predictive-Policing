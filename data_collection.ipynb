{
 "cells": [
  {
   "cell_type": "code",
   "execution_count": 1,
   "metadata": {},
   "outputs": [],
   "source": [
    "import os\n",
    "import glob\n",
    "import pandas as pd\n",
    "from geopandas import GeoDataFrame, GeoSeries\n",
    "from urllib.request import urlopen\n",
    "import requests\n",
    "from bs4 import BeautifulSoup\n",
    "import html5lib\n",
    "import re"
   ]
  },
  {
   "cell_type": "code",
   "execution_count": 2,
   "metadata": {},
   "outputs": [],
   "source": [
    "# crime data\n",
    "def combine_csv(path,filename):\n",
    "    file_list = [i for i in glob.glob(os.path.join(path, filename))]\n",
    "    combined_data = pd.concat([pd.read_csv(files) for files in file_list], ignore_index = True)\n",
    "    \n",
    "    return combined_data\n",
    "\n",
    "# shapefile for policing areas\n",
    "def combine_geo(path, filename):\n",
    "        file_list = [i for i in glob.glob(os.path.join(path, filename))]\n",
    "        combined_geo = pd.concat([GeoDataFrame.from_file(files) for files in file_list],ignore_index = True)\n",
    "        \n",
    "        return combined_geo\n",
    "    \n",
    "# function for webscapping\n",
    "def webscrap_data(str_url, str_class):\n",
    "    url = requests.get(str_url)\n",
    "    soup = BeautifulSoup(url.content, 'lxml')\n",
    "    table = soup.find(class_ = str_class)\n",
    "    table_to_df = pd.read_html(str(table))[0]\n",
    "    \n",
    "    return table_to_df"
   ]
  },
  {
   "cell_type": "code",
   "execution_count": 3,
   "metadata": {},
   "outputs": [],
   "source": [
    "path = \"/Users/jlee/Predictive_Policing\"\n",
    "\n",
    "file_name = [\"WestMidlands/**/*street.csv\", \"WMP_areas/**/england_lsoa_2011.shx\"]\n",
    "\n",
    "wm_crime= combine_csv(path, file_name[0])\n",
    "wmp_areas = combine_geo(path, file_name[1])"
   ]
  },
  {
   "cell_type": "code",
   "execution_count": 4,
   "metadata": {},
   "outputs": [],
   "source": [
    "# webscapping weather for WMP areas between 2017-11 - 2020-10 \n",
    "url = \"https://www.timeanddate.com/weather/uk/birmingham/historic?month=change&year=2017\"\n",
    "str_class = 'eight columns'\n",
    "month_list = [str(i) for i in range(1, 13, 1)]\n",
    "urls =[]\n",
    "\n",
    "year = 2016\n",
    "\n",
    "# collecting urls\n",
    "while (year <= 2019):\n",
    "    \n",
    "    url = url.replace(str(year), str(year+1))\n",
    "    year = year + 1  \n",
    "    \n",
    "    if str(year) == '2017':\n",
    "        for i in month_list[-2:]:\n",
    "            u = url.replace('change', i)\n",
    "            urls.append(u) \n",
    "    \n",
    "    elif str(year) == '2018' or  str(year) =='2019':\n",
    "        for i in month_list:\n",
    "            u = url.replace('change', i)\n",
    "            urls.append(u)\n",
    "            \n",
    "    else :\n",
    "        for i in month_list[:-2]:\n",
    "            u = url.replace('change', i)\n",
    "            urls.append(u)\n",
    "\n",
    "# collecting avg temp\n",
    "avg_temp = [webscrap_data(i, str_class) for i in urls]\n",
    "avg_temp = [avg_temp[i].iloc[2]['Temperature'] for i in range(0, len(avg_temp), 1)]\n",
    "avg_temp =[i.replace('\\xa0', '') for i in avg_temp]\n",
    "\n",
    "# date index\n",
    "dti = pd.Series(pd.period_range('2017-11-01', freq='M', periods=36))\n",
    "avg_temp = pd.DataFrame(avg_temp, index = dti, columns = ['Avg_temp'])"
   ]
  },
  {
   "cell_type": "code",
   "execution_count": 5,
   "metadata": {},
   "outputs": [],
   "source": [
    "# median property price data\n",
    "med_house = pd.read_excel('med_house_lsoa.xls', sheet_name = 'Data', header = 5)\n",
    "\n",
    "# get the relavant columns\n",
    "cols_drop = med_house.iloc[:, 4:-13].columns \n",
    "cols_drop = cols_drop.append(med_house.iloc[:, -3:].columns)\n",
    "med_house.drop(columns = cols_drop, inplace = True)"
   ]
  },
  {
   "cell_type": "code",
   "execution_count": 6,
   "metadata": {},
   "outputs": [],
   "source": [
    "# get the relavant locations \n",
    "# delete locations that are not WMP areas\n",
    "district_list = [\"Birmingham\", \"Coventry\", \"Dudley\", \"Sandwell\", \"Solihull\", \"Walsall\", \"Wolverhampton\"]\n",
    "wmp_lsoa = med_house[\"LSOA name\"]\n",
    "lsoa_not_in = []\n",
    "\n",
    "for lsoa in wmp_lsoa:\n",
    "    if re.findall(r\"(?=(\"+'|'.join(district_list)+r\"))\", lsoa):\n",
    "        pass\n",
    "    else:\n",
    "        lsoa_not_in.append(lsoa)\n",
    "                \n",
    "filt = med_house[med_house['LSOA name'].isin(lsoa_not_in)].index\n",
    "med_house.drop(filt, inplace = True)"
   ]
  },
  {
   "cell_type": "code",
   "execution_count": 7,
   "metadata": {},
   "outputs": [],
   "source": [
    "# universal credit data\n",
    "uni_credit = pd.read_excel('people_uc.xlsx', sheet_name = 'Data Sheet 0', header = 9)\n",
    "uni_credit.drop(columns = 'Month', axis = 1, inplace = True) # drop cols\n",
    "idx_list = [i for i in range(1681, 1693, 1)]\n",
    "idx_list.append(0)\n",
    "uni_credit.drop(uni_credit.index[idx_list], inplace = True) # drop rows\n",
    "uni_credit.rename(columns = {'Unnamed: 1': 'LSOA'}, inplace = True)"
   ]
  },
  {
   "cell_type": "code",
   "execution_count": 8,
   "metadata": {},
   "outputs": [],
   "source": [
    "wm_crime.to_csv('wm_crime.csv', index = False)\n",
    "wmp_areas.to_csv('wmp_areas.csv', index = False)\n",
    "avg_temp.to_csv('avg_temp.csv')\n",
    "med_house.to_csv('med_house.csv')\n",
    "uni_credit.to_csv('uni_credit.csv', index = False)"
   ]
  }
 ],
 "metadata": {
  "hide_input": false,
  "kernelspec": {
   "display_name": "Python 3",
   "language": "python",
   "name": "python3"
  },
  "language_info": {
   "codemirror_mode": {
    "name": "ipython",
    "version": 3
   },
   "file_extension": ".py",
   "mimetype": "text/x-python",
   "name": "python",
   "nbconvert_exporter": "python",
   "pygments_lexer": "ipython3",
   "version": "3.8.6"
  },
  "varInspector": {
   "cols": {
    "lenName": 16,
    "lenType": 16,
    "lenVar": 40
   },
   "kernels_config": {
    "python": {
     "delete_cmd_postfix": "",
     "delete_cmd_prefix": "del ",
     "library": "var_list.py",
     "varRefreshCmd": "print(var_dic_list())"
    },
    "r": {
     "delete_cmd_postfix": ") ",
     "delete_cmd_prefix": "rm(",
     "library": "var_list.r",
     "varRefreshCmd": "cat(var_dic_list()) "
    }
   },
   "types_to_exclude": [
    "module",
    "function",
    "builtin_function_or_method",
    "instance",
    "_Feature"
   ],
   "window_display": false
  }
 },
 "nbformat": 4,
 "nbformat_minor": 4
}
