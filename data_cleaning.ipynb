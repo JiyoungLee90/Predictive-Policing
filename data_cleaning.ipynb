{
 "cells": [
  {
   "cell_type": "code",
   "execution_count": 1,
   "metadata": {},
   "outputs": [],
   "source": [
    "import numpy as np\n",
    "import pandas as pd\n",
    "import re"
   ]
  },
  {
   "cell_type": "code",
   "execution_count": 2,
   "metadata": {},
   "outputs": [],
   "source": [
    "wm_crime = pd.read_csv('wm_crime.csv')\n",
    "wmp_lsoa = pd.read_csv('wmp_areas.csv')\n",
    "avg_temp = pd.read_csv('avg_temp.csv')\n",
    "med_price = pd.read_csv('med_house.csv')\n",
    "uni_credit = pd.read_csv('uni_credit.csv')"
   ]
  },
  {
   "cell_type": "code",
   "execution_count": 3,
   "metadata": {},
   "outputs": [],
   "source": [
    "# NaN value to string\n",
    "wm_crime[\"LSOA name\"] = wm_crime[\"LSOA name\"].fillna('NaN')"
   ]
  },
  {
   "cell_type": "code",
   "execution_count": 4,
   "metadata": {},
   "outputs": [
    {
     "data": {
      "text/plain": [
       "'This is the list of LSOA : [\\'Bournemouth 020A\\', \\'Bromsgrove 003D\\', \\'Bromsgrove 004C\\', \\'Bromsgrove 005A\\', \\'Ceredigion 009B\\', \\'Cheshire West and Chester 039D\\', \\'County Durham 022E\\', \\'East Dorset 005D\\', \\'East Dorset 012E\\', \\'Fylde 004E\\', \\'Harborough 007E\\', \\'Isle of Wight 013A\\', \\'Isle of Wight 018C\\', \\'Lichfield 006E\\', \\'Lichfield 012A\\', \\'North Warwickshire 004A\\', \\'North Warwickshire 006D\\', \\'North Warwickshire 007D\\', \\'Nuneaton and Bedworth 015E\\', \\'Nuneaton and Bedworth 018A\\', \\'Nuneaton and Bedworth 018D\\', \\'Nuneaton and Bedworth 018E\\', \\'Powys 006A\\', \\'Powys 010A\\', \\'Purbeck 001B\\', \\'Purbeck 006D\\', \\'Richmondshire 001B\\', \\'Rother 002C\\', \\'Shropshire 029E\\', \\'Shropshire 037D\\', \\'South Hams 011A\\', \\'South Staffordshire 009E\\', \\'South Staffordshire 012B\\', \\'Swindon 026F\\', \\'Test Valley 009C\\', \\'Warwick 004A\\', \\'Warwick 005G\\', \\'West Oxfordshire 002A\\', \\'Worcester 008B\\', \\'Wychavon 007A\\', \\'NaN\\', \\'Barnet 020B\\', \\'Barnet 025C\\', \\'Barnet 041C\\', \\'Bristol 032B\\', \\'Bromsgrove 003C\\', \\'Bromsgrove 006A\\', \\'Cheltenham 014D\\', \\'Cherwell 001D\\', \\'Cornwall 073E\\', \\'Cotswold 004A\\', \\'Cotswold 006D\\', \\'County Durham 065B\\', \\'East Hampshire 009D\\', \\'Nuneaton and Bedworth 018B\\', \\'Oldham 020D\\', \\'Poole 001B\\', \\'Powys 004B\\', \\'Rugby 001C\\', \\'Sheffield 046D\\', \\'Shropshire 034A\\', \\'South Staffordshire 006A\\', \\'South Staffordshire 010B\\', \\'South Staffordshire 013B\\', \\'Tameside 029A\\', \\'Tewkesbury 003A\\', \\'Tunbridge Wells 013E\\', \\'Wychavon 010E\\', \\'Barnet 001D\\', \\'Barnet 007C\\', \\'Barnet 020A\\', \\'Barnet 035C\\', \\'Barnet 038D\\', \\'Bournemouth 004E\\', \\'Bournemouth 016A\\', \\'Chichester 007B\\', \\'Cornwall 073A\\', \\'Cotswold 005A\\', \\'County Durham 012B\\', \\'Denbighshire 004A\\', \\'East Hampshire 006D\\', \\'East Staffordshire 004A\\', \\'Lichfield 011B\\', \\'Northumberland 007D\\', \\'North Warwickshire 006E\\', \\'North Warwickshire 007C\\', \\'Nuneaton and Bedworth 008A\\', \\'Oxford 008E\\', \\'Poole 018D\\', \\'Powys 006C\\', \\'Powys 009C\\', \\'Rossendale 007B\\', \\'South Bucks 001F\\', \\'South Staffordshire 007B\\', \\'South Staffordshire 013A\\', \\'Stockport 009B\\', \\'Stratford-on-Avon 001B\\', \\'Tewkesbury 004D\\', \\'Welwyn Hatfield 015A\\', \\'Wiltshire 040B\\', \\'Ceredigion 011C\\', \\'Conwy 003D\\', \\'Kirklees 055E\\', \\'Lichfield 011A\\', \\'Lichfield 011E\\', \\'North Warwickshire 004B\\', \\'South Staffordshire 006D\\', \\'Tameside 015D\\', \\'Cannock Chase 013B\\', \\'Conwy 001C\\', \\'Isle of Wight 010B\\', \\'Kettering 002B\\', \\'Shropshire 030D\\', \\'South Staffordshire 014B\\', \\'Wychavon 010C\\', \\'Barnet 004D\\', \\'Bromsgrove 001D\\', \\'Bromsgrove 005C\\', \\'Cannock Chase 004B\\', \\'Cotswold 011A\\', \\'Derbyshire Dales 001C\\', \\'Gateshead 012A\\', \\'Hertsmere 002D\\', \\'Lewes 010B\\', \\'Powys 007C\\', \\'Powys 012D\\', \\'Purbeck 006F\\', \\'Rother 002A\\', \\'Sheffield 042G\\', \\'Shropshire 030A\\', \\'South Gloucestershire 030F\\', \\'South Staffordshire 007A\\', \\'South Staffordshire 008A\\', \\'Tewkesbury 003E\\', \\'Cotswold 005C\\', \\'Poole 016A\\', \\'Poole 018C\\', \\'Shropshire 032A\\', \\'South Staffordshire 014D\\', \\'Wiltshire 005C\\', \\'Barnet 017B\\', \\'Barnet 035E\\', \\'Cotswold 001C\\', \\'County Durham 064H\\', \\'Craven 002A\\', \\'Hammersmith and Fulham 021B\\', \\'Lichfield 009E\\', \\'Oxford 008B\\', \\'Rother 003B\\', \\'Tameside 020D\\', \\'Tameside 022C\\', \\'Bromsgrove 014E\\', \\'Daventry 001A\\', \\'East Dorset 005C\\', \\'Lewes 002E\\', \\'South Staffordshire 007D\\', \\'South Staffordshire 011A\\', \\'Stratford-on-Avon 001C\\', \\'Christchurch 007C\\', \\'Harrogate 001D\\', \\'Kirklees 055B\\', \\'Tewkesbury 003B\\', \\'Cheshire West and Chester 010D\\', \\'Harborough 007A\\', \\'Northumberland 003F\\', \\'Powys 005A\\', \\'Stratford-on-Avon 001A\\', \\'Westminster 012A\\', \\'Worthing 001D\\', \\'Calderdale 002B\\', \\'Cotswold 002B\\', \\'Denbighshire 002B\\', \\'Powys 010B\\', \\'Shropshire 034E\\', \\'Tameside 010A\\', \\'Wiltshire 004C\\', \\'Wychavon 008A\\', \\'Calderdale 004D\\', \\'Exeter 008C\\', \\'Hastings 009A\\', \\'High Peak 013C\\', \\'Leeds 072D\\', \\'Shropshire 036C\\', \\'Bromsgrove 005B\\', \\'Hambleton 006D\\', \\'Kettering 001C\\', \\'North Warwickshire 006B\\', \\'Purbeck 003B\\', \\'Rother 005D\\', \\'Wiltshire 003B\\', \\'Wiltshire 059C\\', \\'Wychavon 010D\\', \\'Bassetlaw 004B\\', \\'Bromsgrove 002D\\', \\'County Durham 064G\\', \\'Hartlepool 011D\\', \\'Isle of Wight 012F\\', \\'Malvern Hills 002B\\', \\'Poole 001C\\', \\'Purbeck 005A\\', \\'Shropshire 028C\\', \\'Welwyn Hatfield 008D\\', \\'Isles of Scilly 001A\\', \\'Kirklees 052C\\', \\'Lichfield 008B\\', \\'Richmondshire 005C\\', \\'Bromsgrove 004A\\', \\'Richmondshire 006D\\', \\'Rother 006E\\', \\'South Staffordshire 010A\\', \\'South Staffordshire 014C\\', \\'Bromsgrove 009B\\', \\'Chichester 003D\\', \\'Hambleton 001B\\', \\'Purbeck 005B\\', \\'Tameside 014A\\', \\'Blaby 010D\\', \\'Bournemouth 021A\\', \\'Bromsgrove 002A\\', \\'Cotswold 005B\\', \\'Poole 017D\\', \\'South Staffordshire 013C\\', \\'East Devon 009B\\', \\'Hambleton 010E\\', \\'Harborough 006B\\', \\'Kirklees 048B\\', \\'Powys 010D\\', \\'South Staffordshire 007C\\', \\'Wiltshire 004D\\', \\'Northumberland 007B\\', \\'Rother 005E\\', \\'Warwick 001A\\', \\'West Dorset 012D\\', \\'Wychavon 013C\\', \\'East Dorset 012D\\', \\'Gwynedd 012A\\', \\'Northumberland 033B\\', \\'Northumberland 040D\\', \\'West Berkshire 011F\\', \\'Wychavon 010A\\', \\'Dover 013E\\', \\'East Northamptonshire 003A\\', \\'Eden 006C\\', \\'Nuneaton and Bedworth 013D\\', \\'Chichester 006A\\', \\'Shropshire 036B\\', \\'Stafford 004A\\', \\'Wychavon 001A\\', \\'Daventry 001B\\', \\'Redditch 008E\\', \\'Ceredigion 005A\\', \\'South Staffordshire 005B\\', \\'Stockport 017D\\', \\'Cotswold 004B\\', \\'Shropshire 030E\\', \\'Tameside 030B\\', \\'Bromsgrove 001B\\', \\'Oldham 006A\\', \\'Purbeck 002C\\', \\'South Staffordshire 008B\\', \\'Stratford-on-Avon 015B\\', \\'Corby 004F\\', \\'High Peak 006B\\', \\'Tamworth 009B\\', \\'Cornwall 003B\\', \\'Isle of Wight 017C\\', \\'Poole 017E\\', \\'Richmondshire 005E\\', \\'East Hampshire 008A\\', \\'High Peak 001D\\', \"King\\'s Lynn and West Norfolk 010D\", \\'Richmondshire 005A\\', \\'South Staffordshire 004G\\', \\'Stockport 014C\\', \\'Ceredigion 011B\\', \\'Cotswold 010A\\', \\'South Staffordshire 004F\\', \\'Basingstoke and Deane 022A\\', \\'Bromsgrove 002E\\', \\'Derbyshire Dales 002C\\', \\'Derbyshire Dales 008D\\', \\'Doncaster 013D\\', \\'Richmondshire 001F\\', \\'Rotherham 031B\\', \\'Stockport 009A\\', \\'West Oxfordshire 010D\\', \\'Leeds 041A\\', \\'Rother 005A\\', \\'Shepway 013B\\', \\'Shropshire 029D\\', \\'Tameside 028A\\', \\'Breckland 013B\\', \\'Bromsgrove 003B\\', \\'Conwy 009D\\', \\'Hinckley and Bosworth 008D\\', \\'Pendle 006A\\', \\'Rugby 001G\\', \\'Rugby 006B\\', \\'South Staffordshire 005A\\', \\'Leeds 005E\\'] not covered by WMP and removed.'"
      ]
     },
     "execution_count": 4,
     "metadata": {},
     "output_type": "execute_result"
    }
   ],
   "source": [
    "# delete LSOAs that are not covered by WMP and NaNs\n",
    "district_list = [\"Birmingham\", \"Coventry\", \"Dudley\", \"Sandwell\", \"Solihull\", \"Walsall\", \"Wolverhampton\"]\n",
    "data_lsoa = wm_crime[\"LSOA name\"].unique()\n",
    "lsoa_not_in = []\n",
    "\n",
    "for lsoa in data_lsoa:\n",
    "    if re.findall(r\"(?=(\"+'|'.join(district_list)+r\"))\", lsoa):\n",
    "        pass\n",
    "    else:\n",
    "        lsoa_not_in.append(lsoa)\n",
    "                \n",
    "filt = wm_crime[wm_crime['LSOA name'].isin(lsoa_not_in)].index\n",
    "wm_crime.drop(filt, inplace = True)\n",
    "\n",
    "\"This is the list of LSOA : {} not covered by WMP and removed.\".format(lsoa_not_in)"
   ]
  },
  {
   "cell_type": "code",
   "execution_count": 5,
   "metadata": {},
   "outputs": [
    {
     "name": "stdout",
     "output_type": "stream",
     "text": [
      "1680\n",
      "1680\n"
     ]
    }
   ],
   "source": [
    "# check if LSOA in crime data now matches LSOA in wmp_lsoa\n",
    "print(len(wmp_lsoa.name))\n",
    "print(len(wm_crime[\"LSOA name\"].unique()))"
   ]
  },
  {
   "cell_type": "markdown",
   "metadata": {},
   "source": [
    "### The dataset"
   ]
  },
  {
   "cell_type": "code",
   "execution_count": 6,
   "metadata": {},
   "outputs": [],
   "source": [
    "# change to datetime\n",
    "wm_crime[\"Month\"] = pd.to_datetime(wm_crime[\"Month\"])\n",
    "\n",
    "# drop columns\n",
    "wm_crime.drop(columns = ['Crime ID', 'Reported by', 'Falls within', 'Longitude', 'Latitude', 'Location', \n",
    "                         'LSOA code', 'Last outcome category', 'Context'], axis = 1, inplace =True)\n",
    "# rename columns\n",
    "wm_crime.rename(columns = {'LSOA name': 'LSOA', 'Crime type':'Type'}, inplace = True)"
   ]
  },
  {
   "cell_type": "code",
   "execution_count": 7,
   "metadata": {},
   "outputs": [],
   "source": [
    "from itertools import product\n",
    "\n",
    "# all the unique combination of features\n",
    "month_list = wm_crime.Month.unique()\n",
    "LSOA_list = wm_crime.LSOA.unique()\n",
    "type_list = wm_crime.Type.unique()\n",
    "\n",
    "combination_list = list(product(month_list, LSOA_list, type_list))\n",
    "comb_df = pd.DataFrame(combination_list, columns = wm_crime.columns)\n",
    "\n",
    "crime1 = wm_crime.groupby(['Month','LSOA', 'Type']).size().reset_index(name = 'Total')\n",
    "\n",
    "# merge two df to fill values\n",
    "crime1 = pd.merge(crime1, comb_df, how = 'right', on = ['Month', 'LSOA', 'Type'])\n",
    "\n",
    "#fill NaNs with 0 to indicate that there were no crime reported\n",
    "crime1[\"Total\"] = crime1[\"Total\"].fillna(0)"
   ]
  },
  {
   "cell_type": "code",
   "execution_count": 8,
   "metadata": {},
   "outputs": [],
   "source": [
    "# add avg_temp data to crime data\n",
    "avg_temp.rename(columns = {'Unnamed: 0': 'Month'}, inplace = True)\n",
    "avg_temp.Month = pd.to_datetime(avg_temp.Month)\n",
    "\n",
    "mapping = dict(avg_temp[['Month', 'Avg_temp']].values)\n",
    "crime1['Avg_temp'] = crime1.Month.map(mapping)\n",
    "\n",
    "crime1.Avg_temp =[int(i.replace('°C', '')) for i in crime1.Avg_temp]"
   ]
  },
  {
   "cell_type": "code",
   "execution_count": 9,
   "metadata": {},
   "outputs": [],
   "source": [
    "# adding median property price data\n",
    "med_price = med_price.sort_values(by = \"LSOA name\")\n",
    "lsoa_list = med_price[\"LSOA name\"]\n",
    "comb_list = list(product(month_list, lsoa_list))\n",
    "price_df = pd.DataFrame(comb_list, columns = ['Month', 'LSOA'])\n",
    "price_df = price_df.sort_values(by = ['Month', 'LSOA'])\n",
    "\n",
    "col_n = 4\n",
    "price_list = []\n",
    "\n",
    "while col_n < 14:\n",
    "    col_n += 1\n",
    "    if col_n == 5:\n",
    "        for i in range(1, 3):\n",
    "            for j in list(med_price.iloc[:, col_n]):\n",
    "                price_list.append(j)\n",
    "    elif (col_n > 5) & (col_n < 14):\n",
    "        for i in range(1, 4):\n",
    "            for j in list(med_price.iloc[:, col_n]):\n",
    "                price_list.append(j)\n",
    "    else:\n",
    "        for i in range(1, 11):\n",
    "            for j in list(med_price.iloc[:, col_n]):\n",
    "                price_list.append(j)\n",
    "\n",
    "price_df['Med_price'] = price_list \n",
    "\n",
    "# merge two df to add data points and fill label values\n",
    "crime1.sort_values(by = ['Month', 'LSOA'])\n",
    "crime1 = pd.merge(crime1, price_df, how = 'right', on = ['Month', 'LSOA'])\n",
    "\n",
    "# missing value imputation with average of median price over any period available for each LSOA \n",
    "# replace missing value indicator \":\" with np.nan\n",
    "crime1['Med_price'] = crime1['Med_price'].replace(\":\", np.nan)\n",
    "crime1['Med_price'] = [float(i) for i in crime1['Med_price']]\n",
    "crime1.Med_price = crime1.groupby('LSOA')['Med_price'].apply(lambda x: x.fillna(x.mean()))"
   ]
  },
  {
   "cell_type": "code",
   "execution_count": 25,
   "metadata": {},
   "outputs": [],
   "source": [
    "missing_price = ['Birmingham 050E', 'Birmingham 053B', 'Birmingham 071A','Birmingham 077A', 'Birmingham 109A',\n",
    "                 'Birmingham 136A','Coventry 007F', 'Coventry 024C', 'Wolverhampton 007B','Wolverhampton 015C'] \n",
    "\n",
    "# imputing median price for areas without any historical records\n",
    "# by averaging over areas within corresponding MLSOA \n",
    "MLSOA = [i[:-1] for i in missing_price]\n",
    "LSOA_list = crime1.LSOA.unique()\n",
    "impute_dict = {mlsoa:[] for mlsoa in MLSOA}\n",
    "for lsoa in LSOA_list:\n",
    "    for mlsoa in MLSOA:\n",
    "        if mlsoa in lsoa:\n",
    "            impute_dict[mlsoa] = impute_dict.get(mlsoa, []) + [lsoa]            \n",
    "\n",
    "m_value = pd.DataFrame()\n",
    "\n",
    "for mlsoa in MLSOA:\n",
    "    impute_df = crime1[crime1['LSOA'].isin(impute_dict[mlsoa])]\n",
    "    m = impute_df.groupby('Month')['Med_price'].mean()\n",
    "    m_value[mlsoa] = m\n",
    "\n",
    "m_value.columns = missing_price\n",
    "\n",
    "for lsoa in m_value.columns:\n",
    "    crime1.loc[(crime1.Med_price.isnull()) & (crime1.LSOA == lsoa ), 'Med_price' ] = crime1['Month'].map(m_value[lsoa])"
   ]
  },
  {
   "cell_type": "code",
   "execution_count": 41,
   "metadata": {},
   "outputs": [],
   "source": [
    "from itertools import repeat\n",
    "# adding universal credit data\n",
    "uni_credit = uni_credit.sort_values(by = 'LSOA') \n",
    "uc_list = []\n",
    "for col in uni_credit.columns[1:]:\n",
    "    for row in uni_credit[col].values:\n",
    "        uc_list.append(row)\n",
    "        \n",
    "# repeat 14 times per element\n",
    "uc_rep_list = []\n",
    "for element in uc_list:\n",
    "    uc_rep_list.extend([element for i in range(14)])\n",
    "\n",
    "crime1[\"Uni_credit\"] = uc_rep_list\n",
    "\n",
    "# replace nill or negligible value indicator \"..\" with 0\n",
    "crime1['Uni_credit'] = crime1['Uni_credit'].replace(\"..\", 0)\n",
    "crime1['Uni_credit'] = [float(i) for i in crime1['Uni_credit']]"
   ]
  },
  {
   "cell_type": "code",
   "execution_count": 44,
   "metadata": {},
   "outputs": [],
   "source": [
    "crime1.to_csv(\"crime1.csv\", index = False)"
   ]
  }
 ],
 "metadata": {
  "hide_input": false,
  "kernelspec": {
   "display_name": "Python 3",
   "language": "python",
   "name": "python3"
  },
  "language_info": {
   "codemirror_mode": {
    "name": "ipython",
    "version": 3
   },
   "file_extension": ".py",
   "mimetype": "text/x-python",
   "name": "python",
   "nbconvert_exporter": "python",
   "pygments_lexer": "ipython3",
   "version": "3.8.6"
  },
  "varInspector": {
   "cols": {
    "lenName": 16,
    "lenType": 16,
    "lenVar": 40
   },
   "kernels_config": {
    "python": {
     "delete_cmd_postfix": "",
     "delete_cmd_prefix": "del ",
     "library": "var_list.py",
     "varRefreshCmd": "print(var_dic_list())"
    },
    "r": {
     "delete_cmd_postfix": ") ",
     "delete_cmd_prefix": "rm(",
     "library": "var_list.r",
     "varRefreshCmd": "cat(var_dic_list()) "
    }
   },
   "types_to_exclude": [
    "module",
    "function",
    "builtin_function_or_method",
    "instance",
    "_Feature"
   ],
   "window_display": false
  }
 },
 "nbformat": 4,
 "nbformat_minor": 4
}
