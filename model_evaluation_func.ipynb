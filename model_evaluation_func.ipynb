{
 "cells": [
  {
   "cell_type": "code",
   "execution_count": 3,
   "metadata": {},
   "outputs": [],
   "source": [
    "from sklearn.metrics import mean_absolute_error\n",
    "import numpy as np\n",
    "import matplotlib.pyplot as plt\n",
    "\n",
    "def cal_train_error(X_train, y_train, model):\n",
    "    '''returns in-sample error for already fit model.'''\n",
    "    predictions = model.predict(X_train)\n",
    "    mae = mean_absolute_error(y_train, predictions)\n",
    "    return mae\n",
    "\n",
    "def cal_validation_error(X_test, y_test, model):\n",
    "    '''returns out-of-sample error for already fit model.'''\n",
    "    predictions = model.predict(X_test)\n",
    "    mae = mean_absolute_error(y_test, predictions)\n",
    "    return mae\n",
    "\n",
    "def cal_metrics(X_train, y_train, X_test, y_test, model):\n",
    "    '''fits model and returns the MAE for in-sample error and out-of-sample error'''\n",
    "    model.fit(X_train, y_train)\n",
    "    train_error = cal_train_error(X_train, y_train, model)\n",
    "    validation_error = cal_validation_error(X_test, y_test, model)\n",
    "    return train_error, validation_error\n",
    "\n",
    "def plot_metrics(train_error_list, test_error_list):\n",
    "    period_list = [i for i in range(len(train_error_list))]\n",
    "    x_ticks = np.arange(1, len(train_error_list), 1)\n",
    "    plt.plot(period_list, train_error_list, color = 'maroon', label = 'Train Error')\n",
    "    plt.plot(period_list, test_error_list, label = 'Validation Error')\n",
    "    plt.xticks(x_ticks)\n",
    "    plt.legend()\n",
    "    plt.title('Train-Validation Performance')\n",
    "    plt.xlabel('Time-based validation period')\n",
    "    plt.ylabel('Error(MAE)')\n",
    "    "
   ]
  },
  {
   "cell_type": "code",
   "execution_count": null,
   "metadata": {},
   "outputs": [],
   "source": []
  }
 ],
 "metadata": {
  "hide_input": false,
  "kernelspec": {
   "display_name": "Python 3",
   "language": "python",
   "name": "python3"
  },
  "language_info": {
   "codemirror_mode": {
    "name": "ipython",
    "version": 3
   },
   "file_extension": ".py",
   "mimetype": "text/x-python",
   "name": "python",
   "nbconvert_exporter": "python",
   "pygments_lexer": "ipython3",
   "version": "3.8.6"
  },
  "varInspector": {
   "cols": {
    "lenName": 16,
    "lenType": 16,
    "lenVar": 40
   },
   "kernels_config": {
    "python": {
     "delete_cmd_postfix": "",
     "delete_cmd_prefix": "del ",
     "library": "var_list.py",
     "varRefreshCmd": "print(var_dic_list())"
    },
    "r": {
     "delete_cmd_postfix": ") ",
     "delete_cmd_prefix": "rm(",
     "library": "var_list.r",
     "varRefreshCmd": "cat(var_dic_list()) "
    }
   },
   "types_to_exclude": [
    "module",
    "function",
    "builtin_function_or_method",
    "instance",
    "_Feature"
   ],
   "window_display": false
  }
 },
 "nbformat": 4,
 "nbformat_minor": 4
}
